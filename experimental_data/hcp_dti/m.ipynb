{
 "cells": [
  {
   "cell_type": "code",
   "execution_count": 1,
   "id": "0da3726d",
   "metadata": {},
   "outputs": [
    {
     "data": {
      "text/plain": [
       "'/Users/nozomizore1974/Documents/human-multi-area-model/experimental_data/hcp_dti'"
      ]
     },
     "execution_count": 1,
     "metadata": {},
     "output_type": "execute_result"
    }
   ],
   "source": [
    "import scipy.io as scio\n",
    "import os\n",
    "\n",
    "C_data = scio.loadmat('Connectivity_Distances_HCP_DesikanKilliany.mat')\n",
    "H_data = scio.loadmat('H.mat')\n",
    "L_data = scio.loadmat('L.mat')\n",
    "# print(type(C_data))\n",
    "os.getcwd()"
   ]
  },
  {
   "cell_type": "code",
   "execution_count": 2,
   "id": "79bbe4c4",
   "metadata": {},
   "outputs": [
    {
     "name": "stdout",
     "output_type": "stream",
     "text": [
      "dict_keys(['__header__', '__version__', '__globals__', 'C_L', 'C_R', 'DK_Names', 'Dist', 'LowResDK_EstimatedDist_LHem', 'LowResDK_EstimatedDist_RHem'])\n"
     ]
    }
   ],
   "source": [
    "print(C_data.keys())"
   ]
  },
  {
   "cell_type": "code",
   "execution_count": 2,
   "id": "ef78a1a4",
   "metadata": {},
   "outputs": [
    {
     "name": "stdout",
     "output_type": "stream",
     "text": [
      "============b'MATLAB 5.0 MAT-file Platform: posix, Created on: Tue Apr 15 02:28:58 2025'============\n",
      "__header__: b'MATLAB 5.0 MAT-file Platform: posix, Created on: Tue Apr 15 02:28:58 2025'\n",
      "__version__: 1.0\n",
      "__globals__: []\n",
      "C_L: [[0.00000000e+00 0.00000000e+00 1.61250000e+01 ... 0.00000000e+00\n",
      "  6.47058824e+00 1.30882353e+01]\n",
      " [0.00000000e+00 0.00000000e+00 1.72083333e+01 ... 0.00000000e+00\n",
      "  0.00000000e+00 7.70588235e+00]\n",
      " [2.03684211e+01 2.29444444e+01 0.00000000e+00 ... 0.00000000e+00\n",
      "  1.05882353e+00 2.33823529e+01]\n",
      " ...\n",
      " [0.00000000e+00 0.00000000e+00 0.00000000e+00 ... 0.00000000e+00\n",
      "  0.00000000e+00 2.65941176e+02]\n",
      " [5.78947368e+00 0.00000000e+00 7.50000000e-01 ... 0.00000000e+00\n",
      "  0.00000000e+00 1.81588235e+02]\n",
      " [2.34210526e+01 1.45555556e+01 3.31250000e+01 ... 7.53500000e+02\n",
      "  3.63176471e+02 0.00000000e+00]]\n",
      "C_R: [[  0.           0.          17.59090909 ...   0.           8.46153846\n",
      "   13.08823529]\n",
      " [  0.           0.          18.77272727 ...   0.           0.\n",
      "    7.70588235]\n",
      " [ 19.35        20.65         0.         ...   0.           0.\n",
      "   23.38235294]\n",
      " ...\n",
      " [  0.           0.           0.         ...   0.           0.\n",
      "  265.94117647]\n",
      " [  5.5          0.           0.         ...   0.           0.\n",
      "  181.58823529]\n",
      " [ 22.25        13.1         36.13636364 ... 904.2        474.92307692\n",
      "    0.        ]]\n",
      "DK_Names: [[array(['ctx-lh-bankssts'], dtype='<U15')]\n",
      " [array(['ctx-lh-caudalanteriorcingulate'], dtype='<U30')]\n",
      " [array(['ctx-lh-caudalmiddlefrontal'], dtype='<U26')]\n",
      " [array(['ctx-lh-cuneus'], dtype='<U13')]\n",
      " [array(['ctx-lh-entorhinal'], dtype='<U17')]\n",
      " [array(['ctx-lh-fusiform'], dtype='<U15')]\n",
      " [array(['ctx-lh-inferiorparietal'], dtype='<U23')]\n",
      " [array(['ctx-lh-inferiortemporal'], dtype='<U23')]\n",
      " [array(['ctx-lh-isthmuscingulate'], dtype='<U23')]\n",
      " [array(['ctx-lh-lateraloccipital'], dtype='<U23')]\n",
      " [array(['ctx-lh-lateralorbitofrontal'], dtype='<U27')]\n",
      " [array(['ctx-lh-lingual'], dtype='<U14')]\n",
      " [array(['ctx-lh-medialorbitofrontal'], dtype='<U26')]\n",
      " [array(['ctx-lh-middletemporal'], dtype='<U21')]\n",
      " [array(['ctx-lh-parahippocampal'], dtype='<U22')]\n",
      " [array(['ctx-lh-paracentral'], dtype='<U18')]\n",
      " [array(['ctx-lh-parsopercularis'], dtype='<U22')]\n",
      " [array(['ctx-lh-parsorbitalis'], dtype='<U20')]\n",
      " [array(['ctx-lh-parstriangularis'], dtype='<U23')]\n",
      " [array(['ctx-lh-pericalcarine'], dtype='<U20')]\n",
      " [array(['ctx-lh-postcentral'], dtype='<U18')]\n",
      " [array(['ctx-lh-posteriorcingulate'], dtype='<U25')]\n",
      " [array(['ctx-lh-precentral'], dtype='<U17')]\n",
      " [array(['ctx-lh-precuneus'], dtype='<U16')]\n",
      " [array(['ctx-lh-rostralanteriorcingulate'], dtype='<U31')]\n",
      " [array(['ctx-lh-rostralmiddlefrontal'], dtype='<U27')]\n",
      " [array(['ctx-lh-superiorfrontal'], dtype='<U22')]\n",
      " [array(['ctx-lh-superiorparietal'], dtype='<U23')]\n",
      " [array(['ctx-lh-superiortemporal'], dtype='<U23')]\n",
      " [array(['ctx-lh-supramarginal'], dtype='<U20')]\n",
      " [array(['ctx-lh-frontalpole'], dtype='<U18')]\n",
      " [array(['ctx-lh-temporalpole'], dtype='<U19')]\n",
      " [array(['ctx-lh-transversetemporal'], dtype='<U25')]\n",
      " [array(['ctx-lh-insula'], dtype='<U13')]]\n",
      "Dist: [[ 0.   82.03 70.24 ... 69.64 22.14 44.79]\n",
      " [82.03  0.   37.16 ... 68.62 61.03 47.42]\n",
      " [70.24 37.16  0.   ... 82.02 52.06 49.52]\n",
      " ...\n",
      " [69.64 68.62 82.02 ...  0.   55.52 36.28]\n",
      " [22.14 61.03 52.06 ... 55.52  0.   24.21]\n",
      " [44.79 47.42 49.52 ... 36.28 24.21  0.  ]]\n",
      "LowResDK_EstimatedDist_LHem: [[ 0.         80.31338506 68.1639739  ... 67.54568325 18.5976739\n",
      "  41.93814573]\n",
      " [80.31338506  0.         34.0755497  ... 66.49458916 58.6732125\n",
      "  44.64831972]\n",
      " [68.1639739  34.0755497   0.         ... 80.30308022 49.42976737\n",
      "  46.81233698]\n",
      " ...\n",
      " [67.54568325 66.49458916 80.30308022 ...  0.         52.99524342\n",
      "  33.16872342]\n",
      " [18.5976739  58.6732125  49.42976737 ... 52.99524342  0.\n",
      "  20.73077662]\n",
      " [41.93814573 44.64831972 46.81233698 ... 33.16872342 20.73077662\n",
      "   0.        ]]\n",
      "LowResDK_EstimatedDist_RHem: [[ 0.         79.55777254 67.36334713 ... 66.74276569 17.61340124\n",
      "  41.04035081]\n",
      " [79.55777254  0.         33.14862343 ... 65.68777723 57.83742194\n",
      "  43.76056615]\n",
      " [67.36334713 33.14862343  0.         ... 79.54742952 48.55972933\n",
      "  45.93260121]\n",
      " ...\n",
      " [66.74276569 65.68777723 79.54742952 ...  0.         52.13841567\n",
      "  32.23843731]\n",
      " [17.61340124 57.83742194 48.55972933 ... 52.13841567  0.\n",
      "  19.75440722]\n",
      " [41.04035081 43.76056615 45.93260121 ... 32.23843731 19.75440722\n",
      "   0.        ]]\n",
      "============b'MATLAB 5.0 MAT-file Platform: posix, Created on: Tue Apr 15 02:28:58 2025'============\n",
      "__header__: b'MATLAB 5.0 MAT-file Platform: posix, Created on: Tue Apr 15 02:28:58 2025'\n",
      "__version__: 1.0\n",
      "__globals__: []\n",
      "C_L: [[  0.           0.          16.82608696 ...   0.           7.33333333\n",
      "   13.08823529]\n",
      " [  0.           0.          17.95652174 ...   0.           0.\n",
      "    7.70588235]\n",
      " [ 19.35        22.94444444   0.         ...   0.           0.\n",
      "   23.38235294]\n",
      " ...\n",
      " [  0.           0.           0.         ...   0.           0.\n",
      "  265.94117647]\n",
      " [  5.5          0.           0.         ...   0.           0.\n",
      "  181.58823529]\n",
      " [ 22.25        14.55555556  34.56521739 ... 822.         411.6\n",
      "    0.        ]]\n",
      "C_R: [[  0.           0.          19.35       ...   0.           9.16666667\n",
      "   13.08823529]\n",
      " [  0.           0.          20.65       ...   0.           0.\n",
      "    7.70588235]\n",
      " [ 20.36842105  24.29411765   0.         ...   0.           0.\n",
      "   23.38235294]\n",
      " ...\n",
      " [  0.           0.           0.         ...   0.           0.\n",
      "  265.94117647]\n",
      " [  5.78947368   0.           0.         ...   0.           0.\n",
      "  181.58823529]\n",
      " [ 23.42105263  15.41176471  39.75       ... 822.         514.5\n",
      "    0.        ]]\n",
      "DK_Names: [[array(['ctx-lh-bankssts'], dtype='<U15')]\n",
      " [array(['ctx-lh-caudalanteriorcingulate'], dtype='<U30')]\n",
      " [array(['ctx-lh-caudalmiddlefrontal'], dtype='<U26')]\n",
      " [array(['ctx-lh-cuneus'], dtype='<U13')]\n",
      " [array(['ctx-lh-entorhinal'], dtype='<U17')]\n",
      " [array(['ctx-lh-fusiform'], dtype='<U15')]\n",
      " [array(['ctx-lh-inferiorparietal'], dtype='<U23')]\n",
      " [array(['ctx-lh-inferiortemporal'], dtype='<U23')]\n",
      " [array(['ctx-lh-isthmuscingulate'], dtype='<U23')]\n",
      " [array(['ctx-lh-lateraloccipital'], dtype='<U23')]\n",
      " [array(['ctx-lh-lateralorbitofrontal'], dtype='<U27')]\n",
      " [array(['ctx-lh-lingual'], dtype='<U14')]\n",
      " [array(['ctx-lh-medialorbitofrontal'], dtype='<U26')]\n",
      " [array(['ctx-lh-middletemporal'], dtype='<U21')]\n",
      " [array(['ctx-lh-parahippocampal'], dtype='<U22')]\n",
      " [array(['ctx-lh-paracentral'], dtype='<U18')]\n",
      " [array(['ctx-lh-parsopercularis'], dtype='<U22')]\n",
      " [array(['ctx-lh-parsorbitalis'], dtype='<U20')]\n",
      " [array(['ctx-lh-parstriangularis'], dtype='<U23')]\n",
      " [array(['ctx-lh-pericalcarine'], dtype='<U20')]\n",
      " [array(['ctx-lh-postcentral'], dtype='<U18')]\n",
      " [array(['ctx-lh-posteriorcingulate'], dtype='<U25')]\n",
      " [array(['ctx-lh-precentral'], dtype='<U17')]\n",
      " [array(['ctx-lh-precuneus'], dtype='<U16')]\n",
      " [array(['ctx-lh-rostralanteriorcingulate'], dtype='<U31')]\n",
      " [array(['ctx-lh-rostralmiddlefrontal'], dtype='<U27')]\n",
      " [array(['ctx-lh-superiorfrontal'], dtype='<U22')]\n",
      " [array(['ctx-lh-superiorparietal'], dtype='<U23')]\n",
      " [array(['ctx-lh-superiortemporal'], dtype='<U23')]\n",
      " [array(['ctx-lh-supramarginal'], dtype='<U20')]\n",
      " [array(['ctx-lh-frontalpole'], dtype='<U18')]\n",
      " [array(['ctx-lh-temporalpole'], dtype='<U19')]\n",
      " [array(['ctx-lh-transversetemporal'], dtype='<U25')]\n",
      " [array(['ctx-lh-insula'], dtype='<U13')]]\n",
      "Dist: [[ 0.   82.03 70.24 ... 69.64 22.14 44.79]\n",
      " [82.03  0.   37.16 ... 68.62 61.03 47.42]\n",
      " [70.24 37.16  0.   ... 82.02 52.06 49.52]\n",
      " ...\n",
      " [69.64 68.62 82.02 ...  0.   55.52 36.28]\n",
      " [22.14 61.03 52.06 ... 55.52  0.   24.21]\n",
      " [44.79 47.42 49.52 ... 36.28 24.21  0.  ]]\n",
      "LowResDK_EstimatedDist_LHem: [[ 0.         80.31338506 68.1639739  ... 67.54568325 18.5976739\n",
      "  41.93814573]\n",
      " [80.31338506  0.         34.0755497  ... 66.49458916 58.6732125\n",
      "  44.64831972]\n",
      " [68.1639739  34.0755497   0.         ... 80.30308022 49.42976737\n",
      "  46.81233698]\n",
      " ...\n",
      " [67.54568325 66.49458916 80.30308022 ...  0.         52.99524342\n",
      "  33.16872342]\n",
      " [18.5976739  58.6732125  49.42976737 ... 52.99524342  0.\n",
      "  20.73077662]\n",
      " [41.93814573 44.64831972 46.81233698 ... 33.16872342 20.73077662\n",
      "   0.        ]]\n",
      "LowResDK_EstimatedDist_RHem: [[ 0.         79.55777254 67.36334713 ... 66.74276569 17.61340124\n",
      "  41.04035081]\n",
      " [79.55777254  0.         33.14862343 ... 65.68777723 57.83742194\n",
      "  43.76056615]\n",
      " [67.36334713 33.14862343  0.         ... 79.54742952 48.55972933\n",
      "  45.93260121]\n",
      " ...\n",
      " [66.74276569 65.68777723 79.54742952 ...  0.         52.13841567\n",
      "  32.23843731]\n",
      " [17.61340124 57.83742194 48.55972933 ... 52.13841567  0.\n",
      "  19.75440722]\n",
      " [41.04035081 43.76056615 45.93260121 ... 32.23843731 19.75440722\n",
      "   0.        ]]\n"
     ]
    }
   ],
   "source": [
    "import numpy as np\n",
    "for mat in [H_data, L_data]:\n",
    "    for C in ['C_L', 'C_R']:\n",
    "        np.fill_diagonal(mat[C], 0)\n",
    "\n",
    "for data in [H_data, L_data]:\n",
    "    print(f'============{ data[\"__header__\"] }============')\n",
    "    for key, value in data.items():\n",
    "        print(f'{key}: {value}')\n",
    "\n",
    "scio.savemat(\"H.mat\", H_data)\n",
    "scio.savemat(\"L.mat\", L_data)"
   ]
  },
  {
   "cell_type": "code",
   "execution_count": 3,
   "id": "08739445",
   "metadata": {},
   "outputs": [],
   "source": [
    "import numpy as np\n",
    "# np.max(C_R)\n",
    "# np.max(H_L)"
   ]
  },
  {
   "cell_type": "code",
   "execution_count": 13,
   "id": "dfd04e3e",
   "metadata": {},
   "outputs": [
    {
     "data": {
      "text/plain": [
       "<matplotlib.colorbar.Colorbar at 0x1478e2320>"
      ]
     },
     "execution_count": 13,
     "metadata": {},
     "output_type": "execute_result"
    },
    {
     "data": {
      "image/png": "[encoded data removed]",
      "text/plain": [
       "<Figure size 480x480 with 2 Axes>"
      ]
     },
     "metadata": {},
     "output_type": "display_data"
    },
    {
     "data": {
      "image/png": "[encoded data removed]",
      "text/plain": [
       "<Figure size 480x480 with 2 Axes>"
      ]
     },
     "metadata": {},
     "output_type": "display_data"
    },
    {
     "data": {
      "image/png": "[encoded data removed]",
      "text/plain": [
       "<Figure size 480x480 with 2 Axes>"
      ]
     },
     "metadata": {},
     "output_type": "display_data"
    }
   ],
   "source": [
    "import matplotlib.pyplot as plt\n",
    "H = scio.loadmat('H.mat')['C_L']\n",
    "L = scio.loadmat('L.mat')['C_L']\n",
    "plt.matshow(H)\n",
    "plt.axis('off')\n",
    "plt.colorbar()\n",
    "plt.matshow(L)\n",
    "plt.axis('off')\n",
    "plt.colorbar()\n",
    "plt.matshow(H-L)\n",
    "plt.axis('off')\n",
    "plt.colorbar()"
   ]
  }
 ],
 "metadata": {
  "kernelspec": {
   "display_name": "nest3.8",
   "language": "python",
   "name": "python3"
  },
  "language_info": {
   "codemirror_mode": {
    "name": "ipython",
    "version": 3
   },
   "file_extension": ".py",
   "mimetype": "text/x-python",
   "name": "python",
   "nbconvert_exporter": "python",
   "pygments_lexer": "ipython3",
   "version": "3.12.0"
  }
 },
 "nbformat": 4,
 "nbformat_minor": 5
}
